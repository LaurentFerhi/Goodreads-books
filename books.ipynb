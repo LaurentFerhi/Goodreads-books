{
  "nbformat": 4,
  "nbformat_minor": 0,
  "metadata": {
    "colab": {
      "name": "books.ipynb",
      "provenance": [],
      "collapsed_sections": []
    },
    "kernelspec": {
      "name": "python3",
      "display_name": "Python 3"
    }
  },
  "cells": [
    {
      "cell_type": "markdown",
      "metadata": {
        "id": "-cXXwD4fhY6l"
      },
      "source": [
        "# Good-read books"
      ]
    },
    {
      "cell_type": "code",
      "metadata": {
        "colab": {
          "base_uri": "https://localhost:8080/"
        },
        "id": "gRummtKAZ5m0",
        "outputId": "5f8a9a73-e6a2-4231-f301-0c314e01066a"
      },
      "source": [
        "pip install pyspark"
      ],
      "execution_count": 432,
      "outputs": [
        {
          "output_type": "stream",
          "text": [
            "Requirement already satisfied: pyspark in /usr/local/lib/python3.6/dist-packages (3.0.1)\n",
            "Requirement already satisfied: py4j==0.10.9 in /usr/local/lib/python3.6/dist-packages (from pyspark) (0.10.9)\n"
          ],
          "name": "stdout"
        }
      ]
    },
    {
      "cell_type": "code",
      "metadata": {
        "id": "azeWY2FCaysq"
      },
      "source": [
        "from pyspark.sql import SparkSession\n",
        "spark = SparkSession.builder.appName(\"books\").config(\"config.option\", \"value\").getOrCreate()\n",
        "\n",
        "from pyspark.sql.functions import isnan, when, count, col, udf, desc, unix_timestamp, from_unixtime, avg, max, sum\n",
        "from pyspark.sql.types import DateType, DoubleType\n",
        "from pyspark.ml.feature import MinMaxScaler\n",
        "from pyspark.ml.feature import VectorAssembler\n",
        "from pyspark.ml import Pipeline\n",
        "\n",
        "from datetime import datetime\n",
        "import numpy as np\n",
        "import matplotlib.pyplot as plt\n",
        "%matplotlib inline\n",
        "import seaborn as sns\n",
        "sns.set()"
      ],
      "execution_count": 433,
      "outputs": []
    },
    {
      "cell_type": "markdown",
      "metadata": {
        "id": "Oa_gdJtVhT5E"
      },
      "source": [
        "## Data wrangling & cleaning"
      ]
    },
    {
      "cell_type": "code",
      "metadata": {
        "colab": {
          "base_uri": "https://localhost:8080/"
        },
        "id": "6oMJZhtIbCEW",
        "outputId": "760769da-546c-4544-e037-c129d4393e6a"
      },
      "source": [
        "df = spark.read.csv('books.csv',header=True,inferSchema=True)\n",
        "df.printSchema()"
      ],
      "execution_count": 434,
      "outputs": [
        {
          "output_type": "stream",
          "text": [
            "root\n",
            " |-- bookID: integer (nullable = true)\n",
            " |-- title: string (nullable = true)\n",
            " |-- authors: string (nullable = true)\n",
            " |-- average_rating: string (nullable = true)\n",
            " |-- isbn: string (nullable = true)\n",
            " |-- isbn13: string (nullable = true)\n",
            " |-- language_code: string (nullable = true)\n",
            " |--   num_pages: string (nullable = true)\n",
            " |-- ratings_count: integer (nullable = true)\n",
            " |-- text_reviews_count: integer (nullable = true)\n",
            " |-- publication_date: string (nullable = true)\n",
            " |-- publisher: string (nullable = true)\n",
            "\n"
          ],
          "name": "stdout"
        }
      ]
    },
    {
      "cell_type": "code",
      "metadata": {
        "id": "gm7Gj6gNw18_"
      },
      "source": [
        "# rename num pages column\n",
        "df = df.withColumnRenamed('  num_pages', 'num_pages')\n",
        "\n",
        "# drop less relevant columns\n",
        "df = df.drop('isbn','isbn13')"
      ],
      "execution_count": 435,
      "outputs": []
    },
    {
      "cell_type": "code",
      "metadata": {
        "colab": {
          "base_uri": "https://localhost:8080/"
        },
        "id": "SRwAyxspbSm1",
        "outputId": "c8875f0b-1ef3-447e-993e-4c3a00d4ec95"
      },
      "source": [
        "df.show(5)"
      ],
      "execution_count": 436,
      "outputs": [
        {
          "output_type": "stream",
          "text": [
            "+------+--------------------+--------------------+--------------+-------------+---------+-------------+------------------+----------------+---------------+\n",
            "|bookID|               title|             authors|average_rating|language_code|num_pages|ratings_count|text_reviews_count|publication_date|      publisher|\n",
            "+------+--------------------+--------------------+--------------+-------------+---------+-------------+------------------+----------------+---------------+\n",
            "|     1|Harry Potter and ...|J.K. Rowling/Mary...|          4.57|          eng|      652|      2095690|             27591|       9/16/2006|Scholastic Inc.|\n",
            "|     2|Harry Potter and ...|J.K. Rowling/Mary...|          4.49|          eng|      870|      2153167|             29221|        9/1/2004|Scholastic Inc.|\n",
            "|     4|Harry Potter and ...|        J.K. Rowling|          4.42|          eng|      352|         6333|               244|       11/1/2003|     Scholastic|\n",
            "|     5|Harry Potter and ...|J.K. Rowling/Mary...|          4.56|          eng|      435|      2339585|             36325|        5/1/2004|Scholastic Inc.|\n",
            "|     8|Harry Potter Boxe...|J.K. Rowling/Mary...|          4.78|          eng|     2690|        41428|               164|       9/13/2004|     Scholastic|\n",
            "+------+--------------------+--------------------+--------------+-------------+---------+-------------+------------------+----------------+---------------+\n",
            "only showing top 5 rows\n",
            "\n"
          ],
          "name": "stdout"
        }
      ]
    },
    {
      "cell_type": "code",
      "metadata": {
        "colab": {
          "base_uri": "https://localhost:8080/"
        },
        "id": "81uVEY5HcFe4",
        "outputId": "3ba62db7-765f-4323-e5d8-e05ca064134f"
      },
      "source": [
        "# Search for Null or NaN values\n",
        "df.select([count(when(isnan(c) | col(c).isNull(), c)).alias(c) for c in df.columns]).show()"
      ],
      "execution_count": 437,
      "outputs": [
        {
          "output_type": "stream",
          "text": [
            "+------+-----+-------+--------------+-------------+---------+-------------+------------------+----------------+---------+\n",
            "|bookID|title|authors|average_rating|language_code|num_pages|ratings_count|text_reviews_count|publication_date|publisher|\n",
            "+------+-----+-------+--------------+-------------+---------+-------------+------------------+----------------+---------+\n",
            "|     0|    0|      0|             0|            0|        0|            0|                 0|               0|        0|\n",
            "+------+-----+-------+--------------+-------------+---------+-------------+------------------+----------------+---------+\n",
            "\n"
          ],
          "name": "stdout"
        }
      ]
    },
    {
      "cell_type": "markdown",
      "metadata": {
        "id": "bGk1UOnMiJbO"
      },
      "source": [
        "### Authors"
      ]
    },
    {
      "cell_type": "code",
      "metadata": {
        "colab": {
          "base_uri": "https://localhost:8080/"
        },
        "id": "UvC1KKH6cyYC",
        "outputId": "d95ad875-684c-4305-f877-abc194b6a851"
      },
      "source": [
        "# keep only main author\n",
        "keep_main_author = udf(lambda x: x.split('/')[0])\n",
        "df = df.withColumn('main_author', keep_main_author('authors'))\n",
        "df.show(5)"
      ],
      "execution_count": 438,
      "outputs": [
        {
          "output_type": "stream",
          "text": [
            "+------+--------------------+--------------------+--------------+-------------+---------+-------------+------------------+----------------+---------------+------------+\n",
            "|bookID|               title|             authors|average_rating|language_code|num_pages|ratings_count|text_reviews_count|publication_date|      publisher| main_author|\n",
            "+------+--------------------+--------------------+--------------+-------------+---------+-------------+------------------+----------------+---------------+------------+\n",
            "|     1|Harry Potter and ...|J.K. Rowling/Mary...|          4.57|          eng|      652|      2095690|             27591|       9/16/2006|Scholastic Inc.|J.K. Rowling|\n",
            "|     2|Harry Potter and ...|J.K. Rowling/Mary...|          4.49|          eng|      870|      2153167|             29221|        9/1/2004|Scholastic Inc.|J.K. Rowling|\n",
            "|     4|Harry Potter and ...|        J.K. Rowling|          4.42|          eng|      352|         6333|               244|       11/1/2003|     Scholastic|J.K. Rowling|\n",
            "|     5|Harry Potter and ...|J.K. Rowling/Mary...|          4.56|          eng|      435|      2339585|             36325|        5/1/2004|Scholastic Inc.|J.K. Rowling|\n",
            "|     8|Harry Potter Boxe...|J.K. Rowling/Mary...|          4.78|          eng|     2690|        41428|               164|       9/13/2004|     Scholastic|J.K. Rowling|\n",
            "+------+--------------------+--------------------+--------------+-------------+---------+-------------+------------------+----------------+---------------+------------+\n",
            "only showing top 5 rows\n",
            "\n"
          ],
          "name": "stdout"
        }
      ]
    },
    {
      "cell_type": "markdown",
      "metadata": {
        "id": "EGou5RgGiNSE"
      },
      "source": [
        "### Languages"
      ]
    },
    {
      "cell_type": "code",
      "metadata": {
        "colab": {
          "base_uri": "https://localhost:8080/"
        },
        "id": "UnG8SokQgzEE",
        "outputId": "4206254b-0ad9-44f3-9cbd-436754b9debd"
      },
      "source": [
        "# Check values from language_code\n",
        "df.groupby('language_code').count().sort(desc(\"count\")).show()"
      ],
      "execution_count": 439,
      "outputs": [
        {
          "output_type": "stream",
          "text": [
            "+-------------+-----+\n",
            "|language_code|count|\n",
            "+-------------+-----+\n",
            "|          eng| 8908|\n",
            "|        en-US| 1408|\n",
            "|          spa|  218|\n",
            "|        en-GB|  214|\n",
            "|          fre|  144|\n",
            "|          ger|   99|\n",
            "|          jpn|   46|\n",
            "|          mul|   19|\n",
            "|          zho|   14|\n",
            "|          grc|   11|\n",
            "|          por|   10|\n",
            "|        en-CA|    7|\n",
            "|          ita|    5|\n",
            "|          enm|    3|\n",
            "|          lat|    3|\n",
            "|          rus|    2|\n",
            "|          swe|    2|\n",
            "|          ale|    1|\n",
            "|          srp|    1|\n",
            "|9780674842113|    1|\n",
            "+-------------+-----+\n",
            "only showing top 20 rows\n",
            "\n"
          ],
          "name": "stdout"
        }
      ]
    },
    {
      "cell_type": "code",
      "metadata": {
        "colab": {
          "base_uri": "https://localhost:8080/"
        },
        "id": "uK346PuTibKy",
        "outputId": "94f556bc-8dbf-4b54-f176-d9be87fb1f6b"
      },
      "source": [
        "# regroup english languages\n",
        "regroup_eng = udf(lambda x: 'eng' if x in ['en-US','en-GB','en-CA'] else x)\n",
        "df = df.withColumn('lang', regroup_eng('language_code'))\n",
        "df.groupby('lang').count().sort(desc(\"count\")).show()"
      ],
      "execution_count": 440,
      "outputs": [
        {
          "output_type": "stream",
          "text": [
            "+-------------+-----+\n",
            "|         lang|count|\n",
            "+-------------+-----+\n",
            "|          eng|10537|\n",
            "|          spa|  218|\n",
            "|          fre|  144|\n",
            "|          ger|   99|\n",
            "|          jpn|   46|\n",
            "|          mul|   19|\n",
            "|          zho|   14|\n",
            "|          grc|   11|\n",
            "|          por|   10|\n",
            "|          ita|    5|\n",
            "|          lat|    3|\n",
            "|          enm|    3|\n",
            "|          swe|    2|\n",
            "|          rus|    2|\n",
            "|          tur|    1|\n",
            "|          srp|    1|\n",
            "|9780851742717|    1|\n",
            "|          ara|    1|\n",
            "|9781563841552|    1|\n",
            "|9780674842113|    1|\n",
            "+-------------+-----+\n",
            "only showing top 20 rows\n",
            "\n"
          ],
          "name": "stdout"
        }
      ]
    },
    {
      "cell_type": "code",
      "metadata": {
        "colab": {
          "base_uri": "https://localhost:8080/"
        },
        "id": "DQ2M7b3YpW55",
        "outputId": "12f9c10f-7483-4c50-efa5-774b7549508d"
      },
      "source": [
        "# function to identify if x can be converted to int\n",
        "def can_be_int(x):\n",
        "  try:\n",
        "    int(x)\n",
        "    return True\n",
        "  except ValueError:\n",
        "    return False\n",
        "\n",
        "# list of legal values for language\n",
        "legal_lang = [i.lang for i in df.select('lang').distinct().collect() if can_be_int(i.lang) == False]\n",
        "\n",
        "# filter rows with illegal language values\n",
        "df.filter(~df.lang.isin(legal_lang)).show()"
      ],
      "execution_count": 441,
      "outputs": [
        {
          "output_type": "stream",
          "text": [
            "+------+--------------------+--------------------+--------------------+-------------+---------+-------------+------------------+----------------+---------+--------------------+-------------+\n",
            "|bookID|               title|             authors|      average_rating|language_code|num_pages|ratings_count|text_reviews_count|publication_date|publisher|         main_author|         lang|\n",
            "+------+--------------------+--------------------+--------------------+-------------+---------+-------------+------------------+----------------+---------+--------------------+-------------+\n",
            "| 12224|Streetcar Suburbs...|     Sam Bass Warner|   Jr./Sam B. Warner|9780674842113|    en-US|          236|                61|               6|4/20/2004|     Sam Bass Warner|9780674842113|\n",
            "| 16914|The Tolkien Fan's...|David E. Smith (T...| one of the found...|9781593600112|      eng|          400|                26|               4| 4/6/2004|David E. Smith (T...|9781593600112|\n",
            "| 22128|Patriots (The Com...|        James Wesley|              Rawles|9781563841552|      eng|          342|                38|               4|1/15/1999|        James Wesley|9781563841552|\n",
            "| 34889|Brown's Star Atla...|               Brown|      Son & Ferguson|9780851742717|      eng|           49|                 0|               0| 5/1/1977|               Brown|9780851742717|\n",
            "+------+--------------------+--------------------+--------------------+-------------+---------+-------------+------------------+----------------+---------+--------------------+-------------+\n",
            "\n"
          ],
          "name": "stdout"
        }
      ]
    },
    {
      "cell_type": "code",
      "metadata": {
        "id": "MU9e4geTtdS3"
      },
      "source": [
        "# Choose only rows with legal languages (will drop the 4 rows above)\n",
        "df = df.filter(df.lang.isin(legal_lang))"
      ],
      "execution_count": 442,
      "outputs": []
    },
    {
      "cell_type": "code",
      "metadata": {
        "colab": {
          "base_uri": "https://localhost:8080/"
        },
        "id": "bnHTzPDnvRZI",
        "outputId": "ba6d466e-cfce-4e18-b843-278384ece603"
      },
      "source": [
        "df.show(5)"
      ],
      "execution_count": 443,
      "outputs": [
        {
          "output_type": "stream",
          "text": [
            "+------+--------------------+--------------------+--------------+-------------+---------+-------------+------------------+----------------+---------------+------------+----+\n",
            "|bookID|               title|             authors|average_rating|language_code|num_pages|ratings_count|text_reviews_count|publication_date|      publisher| main_author|lang|\n",
            "+------+--------------------+--------------------+--------------+-------------+---------+-------------+------------------+----------------+---------------+------------+----+\n",
            "|     1|Harry Potter and ...|J.K. Rowling/Mary...|          4.57|          eng|      652|      2095690|             27591|       9/16/2006|Scholastic Inc.|J.K. Rowling| eng|\n",
            "|     2|Harry Potter and ...|J.K. Rowling/Mary...|          4.49|          eng|      870|      2153167|             29221|        9/1/2004|Scholastic Inc.|J.K. Rowling| eng|\n",
            "|     4|Harry Potter and ...|        J.K. Rowling|          4.42|          eng|      352|         6333|               244|       11/1/2003|     Scholastic|J.K. Rowling| eng|\n",
            "|     5|Harry Potter and ...|J.K. Rowling/Mary...|          4.56|          eng|      435|      2339585|             36325|        5/1/2004|Scholastic Inc.|J.K. Rowling| eng|\n",
            "|     8|Harry Potter Boxe...|J.K. Rowling/Mary...|          4.78|          eng|     2690|        41428|               164|       9/13/2004|     Scholastic|J.K. Rowling| eng|\n",
            "+------+--------------------+--------------------+--------------+-------------+---------+-------------+------------------+----------------+---------------+------------+----+\n",
            "only showing top 5 rows\n",
            "\n"
          ],
          "name": "stdout"
        }
      ]
    },
    {
      "cell_type": "markdown",
      "metadata": {
        "id": "7AHM9j4IwRc-"
      },
      "source": [
        "### Numeric data"
      ]
    },
    {
      "cell_type": "code",
      "metadata": {
        "colab": {
          "base_uri": "https://localhost:8080/"
        },
        "id": "TqlQdGBCwUiX",
        "outputId": "3c20621c-5a76-4a36-916c-a9c554f0a51f"
      },
      "source": [
        "df.select('average_rating','ratings_count','text_reviews_count','num_pages').summary().show()"
      ],
      "execution_count": 444,
      "outputs": [
        {
          "output_type": "stream",
          "text": [
            "+-------+-------------------+------------------+------------------+------------------+\n",
            "|summary|     average_rating|     ratings_count|text_reviews_count|         num_pages|\n",
            "+-------+-------------------+------------------+------------------+------------------+\n",
            "|  count|              11123|             11123|             11123|             11123|\n",
            "|   mean|  3.934075339386829|17942.848062573048|  542.048098534568| 336.4055560550211|\n",
            "| stddev|0.35048531165127855|112499.15347087449| 2576.619589434105|241.15262644400408|\n",
            "|    min|               0.00|                 0|                 0|                 0|\n",
            "|    25%|               3.77|               104|                 9|             192.0|\n",
            "|    50%|               3.96|               745|                47|             299.0|\n",
            "|    75%|               4.14|              4996|               238|             416.0|\n",
            "|    max|               5.00|           4597666|             94265|               999|\n",
            "+-------+-------------------+------------------+------------------+------------------+\n",
            "\n"
          ],
          "name": "stdout"
        }
      ]
    },
    {
      "cell_type": "code",
      "metadata": {
        "colab": {
          "base_uri": "https://localhost:8080/"
        },
        "id": "fO25aY7r5zo0",
        "outputId": "0b248396-2cca-4104-e607-e59a3793a477"
      },
      "source": [
        "df.filter(df.ratings_count == 4597666).show()"
      ],
      "execution_count": 445,
      "outputs": [
        {
          "output_type": "stream",
          "text": [
            "+------+--------------------+---------------+--------------+-------------+---------+-------------+------------------+----------------+--------------------+---------------+----+\n",
            "|bookID|               title|        authors|average_rating|language_code|num_pages|ratings_count|text_reviews_count|publication_date|           publisher|    main_author|lang|\n",
            "+------+--------------------+---------------+--------------+-------------+---------+-------------+------------------+----------------+--------------------+---------------+----+\n",
            "| 41865|Twilight (Twiligh...|Stephenie Meyer|          3.59|          eng|      501|      4597666|             94265|        9/6/2006|Little  Brown and...|Stephenie Meyer| eng|\n",
            "+------+--------------------+---------------+--------------+-------------+---------+-------------+------------------+----------------+--------------------+---------------+----+\n",
            "\n"
          ],
          "name": "stdout"
        }
      ]
    },
    {
      "cell_type": "code",
      "metadata": {
        "colab": {
          "base_uri": "https://localhost:8080/"
        },
        "id": "315qbvgE3Kz4",
        "outputId": "2f04308e-29c3-4881-d039-1e30b355319a"
      },
      "source": [
        "df = df.withColumn('rating', df.average_rating.cast('float'))\n",
        "df = df.withColumn('pages', df.num_pages.cast('int'))\n",
        "df.show(5)"
      ],
      "execution_count": 446,
      "outputs": [
        {
          "output_type": "stream",
          "text": [
            "+------+--------------------+--------------------+--------------+-------------+---------+-------------+------------------+----------------+---------------+------------+----+------+-----+\n",
            "|bookID|               title|             authors|average_rating|language_code|num_pages|ratings_count|text_reviews_count|publication_date|      publisher| main_author|lang|rating|pages|\n",
            "+------+--------------------+--------------------+--------------+-------------+---------+-------------+------------------+----------------+---------------+------------+----+------+-----+\n",
            "|     1|Harry Potter and ...|J.K. Rowling/Mary...|          4.57|          eng|      652|      2095690|             27591|       9/16/2006|Scholastic Inc.|J.K. Rowling| eng|  4.57|  652|\n",
            "|     2|Harry Potter and ...|J.K. Rowling/Mary...|          4.49|          eng|      870|      2153167|             29221|        9/1/2004|Scholastic Inc.|J.K. Rowling| eng|  4.49|  870|\n",
            "|     4|Harry Potter and ...|        J.K. Rowling|          4.42|          eng|      352|         6333|               244|       11/1/2003|     Scholastic|J.K. Rowling| eng|  4.42|  352|\n",
            "|     5|Harry Potter and ...|J.K. Rowling/Mary...|          4.56|          eng|      435|      2339585|             36325|        5/1/2004|Scholastic Inc.|J.K. Rowling| eng|  4.56|  435|\n",
            "|     8|Harry Potter Boxe...|J.K. Rowling/Mary...|          4.78|          eng|     2690|        41428|               164|       9/13/2004|     Scholastic|J.K. Rowling| eng|  4.78| 2690|\n",
            "+------+--------------------+--------------------+--------------+-------------+---------+-------------+------------------+----------------+---------------+------------+----+------+-----+\n",
            "only showing top 5 rows\n",
            "\n"
          ],
          "name": "stdout"
        }
      ]
    },
    {
      "cell_type": "code",
      "metadata": {
        "colab": {
          "base_uri": "https://localhost:8080/"
        },
        "id": "bwmQC-bgxZrZ",
        "outputId": "c1338135-527a-4180-de37-b6bdc7d1e2f3"
      },
      "source": [
        "df.filter(df.num_pages == 0).select('num_pages').summary().show(1)"
      ],
      "execution_count": 447,
      "outputs": [
        {
          "output_type": "stream",
          "text": [
            "+-------+---------+\n",
            "|summary|num_pages|\n",
            "+-------+---------+\n",
            "|  count|       76|\n",
            "+-------+---------+\n",
            "only showing top 1 row\n",
            "\n"
          ],
          "name": "stdout"
        }
      ]
    },
    {
      "cell_type": "markdown",
      "metadata": {
        "id": "-Of7ZXmyyMhl"
      },
      "source": [
        "### Date"
      ]
    },
    {
      "cell_type": "code",
      "metadata": {
        "colab": {
          "base_uri": "https://localhost:8080/"
        },
        "id": "XOoL3C6kyK9l",
        "outputId": "fe3a91e0-2088-4176-a3ab-65592c773d50"
      },
      "source": [
        "convert_date = udf(lambda x: datetime.strptime(x, '%m/%d/%Y'), DateType())\n",
        "df = df.withColumn('pub_date', convert_date('publication_date'))\n",
        "df.show(5)"
      ],
      "execution_count": 448,
      "outputs": [
        {
          "output_type": "stream",
          "text": [
            "+------+--------------------+--------------------+--------------+-------------+---------+-------------+------------------+----------------+---------------+------------+----+------+-----+----------+\n",
            "|bookID|               title|             authors|average_rating|language_code|num_pages|ratings_count|text_reviews_count|publication_date|      publisher| main_author|lang|rating|pages|  pub_date|\n",
            "+------+--------------------+--------------------+--------------+-------------+---------+-------------+------------------+----------------+---------------+------------+----+------+-----+----------+\n",
            "|     1|Harry Potter and ...|J.K. Rowling/Mary...|          4.57|          eng|      652|      2095690|             27591|       9/16/2006|Scholastic Inc.|J.K. Rowling| eng|  4.57|  652|2006-09-16|\n",
            "|     2|Harry Potter and ...|J.K. Rowling/Mary...|          4.49|          eng|      870|      2153167|             29221|        9/1/2004|Scholastic Inc.|J.K. Rowling| eng|  4.49|  870|2004-09-01|\n",
            "|     4|Harry Potter and ...|        J.K. Rowling|          4.42|          eng|      352|         6333|               244|       11/1/2003|     Scholastic|J.K. Rowling| eng|  4.42|  352|2003-11-01|\n",
            "|     5|Harry Potter and ...|J.K. Rowling/Mary...|          4.56|          eng|      435|      2339585|             36325|        5/1/2004|Scholastic Inc.|J.K. Rowling| eng|  4.56|  435|2004-05-01|\n",
            "|     8|Harry Potter Boxe...|J.K. Rowling/Mary...|          4.78|          eng|     2690|        41428|               164|       9/13/2004|     Scholastic|J.K. Rowling| eng|  4.78| 2690|2004-09-13|\n",
            "+------+--------------------+--------------------+--------------+-------------+---------+-------------+------------------+----------------+---------------+------------+----+------+-----+----------+\n",
            "only showing top 5 rows\n",
            "\n"
          ],
          "name": "stdout"
        }
      ]
    },
    {
      "cell_type": "code",
      "metadata": {
        "colab": {
          "base_uri": "https://localhost:8080/"
        },
        "id": "-viOw7y00VU8",
        "outputId": "8950af03-fa87-4c9f-9872-63a3f00fdc2a"
      },
      "source": [
        "df_cleaned = df.select(\n",
        "    'bookID',\n",
        "    'title',\n",
        "    'main_author',\n",
        "    'lang',\n",
        "    'pub_date',\n",
        "    'pages',\n",
        "    'rating',\n",
        "    'ratings_count',\n",
        "    'text_reviews_count')\n",
        "\n",
        "df_cleaned.show(5)"
      ],
      "execution_count": 449,
      "outputs": [
        {
          "output_type": "stream",
          "text": [
            "+------+--------------------+------------+----+----------+-----+------+-------------+------------------+\n",
            "|bookID|               title| main_author|lang|  pub_date|pages|rating|ratings_count|text_reviews_count|\n",
            "+------+--------------------+------------+----+----------+-----+------+-------------+------------------+\n",
            "|     1|Harry Potter and ...|J.K. Rowling| eng|2006-09-16|  652|  4.57|      2095690|             27591|\n",
            "|     2|Harry Potter and ...|J.K. Rowling| eng|2004-09-01|  870|  4.49|      2153167|             29221|\n",
            "|     4|Harry Potter and ...|J.K. Rowling| eng|2003-11-01|  352|  4.42|         6333|               244|\n",
            "|     5|Harry Potter and ...|J.K. Rowling| eng|2004-05-01|  435|  4.56|      2339585|             36325|\n",
            "|     8|Harry Potter Boxe...|J.K. Rowling| eng|2004-09-13| 2690|  4.78|        41428|               164|\n",
            "+------+--------------------+------------+----+----------+-----+------+-------------+------------------+\n",
            "only showing top 5 rows\n",
            "\n"
          ],
          "name": "stdout"
        }
      ]
    },
    {
      "cell_type": "code",
      "metadata": {
        "colab": {
          "base_uri": "https://localhost:8080/"
        },
        "id": "G6iNuRxL2uTJ",
        "outputId": "afb59f82-c7f9-4068-9f62-e9dbb317c7fc"
      },
      "source": [
        "df_cleaned.printSchema()"
      ],
      "execution_count": 450,
      "outputs": [
        {
          "output_type": "stream",
          "text": [
            "root\n",
            " |-- bookID: integer (nullable = true)\n",
            " |-- title: string (nullable = true)\n",
            " |-- main_author: string (nullable = true)\n",
            " |-- lang: string (nullable = true)\n",
            " |-- pub_date: date (nullable = true)\n",
            " |-- pages: integer (nullable = true)\n",
            " |-- rating: float (nullable = true)\n",
            " |-- ratings_count: integer (nullable = true)\n",
            " |-- text_reviews_count: integer (nullable = true)\n",
            "\n"
          ],
          "name": "stdout"
        }
      ]
    },
    {
      "cell_type": "markdown",
      "metadata": {
        "id": "i8AA_4AM1npy"
      },
      "source": [
        "## Data analysis"
      ]
    },
    {
      "cell_type": "code",
      "metadata": {
        "colab": {
          "base_uri": "https://localhost:8080/",
          "height": 382
        },
        "id": "YuvtbjKU1p9G",
        "outputId": "1e773148-685c-45ee-bb14-8e6ff0ce1b7a"
      },
      "source": [
        "# Distribution of ratings\n",
        "sns.displot(\n",
        "    data=df_cleaned.select('rating').toPandas(),\n",
        "    bins=50,\n",
        "    kde=True)"
      ],
      "execution_count": 451,
      "outputs": [
        {
          "output_type": "execute_result",
          "data": {
            "text/plain": [
              "<seaborn.axisgrid.FacetGrid at 0x7f122d1d3208>"
            ]
          },
          "metadata": {
            "tags": []
          },
          "execution_count": 451
        },
        {
          "output_type": "display_data",
          "data": {
            "image/png": "[encoded data removed]",
            "text/plain": [
              "<Figure size 432.475x360 with 1 Axes>"
            ]
          },
          "metadata": {
            "tags": []
          }
        }
      ]
    },
    {
      "cell_type": "code",
      "metadata": {
        "colab": {
          "base_uri": "https://localhost:8080/",
          "height": 388
        },
        "id": "dHc8XPrXdQLT",
        "outputId": "80f6bdf3-1cfc-44fc-b9a5-4ca669cd22ea"
      },
      "source": [
        "# Correlation matrix\n",
        "fig, ax = plt.subplots(figsize=(5, 5))\n",
        "cmap = sns.diverging_palette(220, 10, as_cmap=True)\n",
        "sns.heatmap(\n",
        "    df_cleaned.select('pages','rating','ratings_count','text_reviews_count').toPandas().corr(), \n",
        "    cmap=cmap, \n",
        "    vmax=1.0, \n",
        "    vmin=-1.0, \n",
        "    center=0, \n",
        "    square=True, \n",
        "    linewidths=.5, \n",
        "    cbar_kws={\"shrink\": .8},\n",
        "    annot=True\n",
        ")"
      ],
      "execution_count": 452,
      "outputs": [
        {
          "output_type": "execute_result",
          "data": {
            "text/plain": [
              "<matplotlib.axes._subplots.AxesSubplot at 0x7f122ce1a278>"
            ]
          },
          "metadata": {
            "tags": []
          },
          "execution_count": 452
        },
        {
          "output_type": "display_data",
          "data": {
            "image/png": "[encoded data removed]",
            "text/plain": [
              "<Figure size 360x360 with 2 Axes>"
            ]
          },
          "metadata": {
            "tags": []
          }
        }
      ]
    },
    {
      "cell_type": "code",
      "metadata": {
        "colab": {
          "base_uri": "https://localhost:8080/",
          "height": 285
        },
        "id": "uptsZPoyeHEx",
        "outputId": "def56fcf-428e-4eaf-edd0-96569ea703e8"
      },
      "source": [
        "# Top 10 languages\n",
        "sns.barplot(\n",
        "    data=df_cleaned.groupby('lang').count().sort(desc(\"count\")).limit(10).toPandas(),\n",
        "    x='lang',\n",
        "    y='count'\n",
        ")\n",
        "plt.yscale('log')"
      ],
      "execution_count": 453,
      "outputs": [
        {
          "output_type": "display_data",
          "data": {
            "image/png": "[encoded data removed]",
            "text/plain": [
              "<Figure size 432x288 with 1 Axes>"
            ]
          },
          "metadata": {
            "tags": []
          }
        }
      ]
    },
    {
      "cell_type": "code",
      "metadata": {
        "colab": {
          "base_uri": "https://localhost:8080/"
        },
        "id": "frotbDETnMBh",
        "outputId": "d79b8b88-14a2-4da6-ce99-5cbbf0ee65e0"
      },
      "source": [
        "# Data on Neal Stephenson english books\n",
        "df_cleaned.filter(df_cleaned.main_author.like(\"%Stephenson%\") & df_cleaned.lang.like(\"%eng%\")).sort(desc('rating')).show()"
      ],
      "execution_count": 454,
      "outputs": [
        {
          "output_type": "stream",
          "text": [
            "+------+--------------------+---------------+----+----------+-----+------+-------------+------------------+\n",
            "|bookID|               title|    main_author|lang|  pub_date|pages|rating|ratings_count|text_reviews_count|\n",
            "+------+--------------------+---------------+----+----------+-----+------+-------------+------------------+\n",
            "|   822|The Confusion (Th...|Neal Stephenson| eng|2005-06-14|  815|  4.26|        19320|               565|\n",
            "|   816|       Cryptonomicon|Neal Stephenson| eng|2002-11-01| 1139|  4.25|        83184|              4249|\n",
            "|   829|Odalisque (The Ba...|Neal Stephenson| eng|2006-03-28|  464|   4.2|         1567|                65|\n",
            "|   827|The Diamond Age: ...|Neal Stephenson| eng|2000-05-02|  499|  4.19|        71042|              2767|\n",
            "|   830|          Snow Crash|Neal Stephenson| eng|2000-08-02|  438|  4.03|       188100|              6612|\n",
            "| 45280|Quicksilver (The ...|Neal Stephenson| eng|2003-10-02|  927|  3.93|          171|                12|\n",
            "|   823|Quicksilver (The ...|Neal Stephenson| eng|2004-09-21|  927|  3.93|        30872|              1735|\n",
            "| 18937|In the Beginning....|Neal Stephenson| eng|1999-11-09|  151|   3.8|         6638|               329|\n",
            "|   828|           Interface|Neal Stephenson| eng|2005-05-31|  640|  3.68|         4731|               270|\n",
            "|   824|          The Cobweb|Neal Stephenson| eng|2005-05-31|  448|  3.61|         2465|               137|\n",
            "|   826|           The Big U|Neal Stephenson| eng|2001-02-06|  308|  3.25|         4657|               223|\n",
            "+------+--------------------+---------------+----+----------+-----+------+-------------+------------------+\n",
            "\n"
          ],
          "name": "stdout"
        }
      ]
    },
    {
      "cell_type": "code",
      "metadata": {
        "colab": {
          "base_uri": "https://localhost:8080/"
        },
        "id": "V-qbWHkdqHHg",
        "outputId": "50ef2f67-7b09-41f3-8d0f-556fbfcd9407"
      },
      "source": [
        "# Best rated authors\n",
        "df_best_authors = df_cleaned.groupby('main_author').agg(\n",
        "    avg('rating').alias('mean_rating'),\n",
        "    max('rating').alias('max_rating'),\n",
        "    count('rating').alias('number_of_books'),\n",
        "    avg('ratings_count').alias('mean_rating_count'),\n",
        "    sum('pages').alias('total_pages'),\n",
        "    ).sort(desc('mean_rating'))\n",
        "    \n",
        "df_best_authors.show()"
      ],
      "execution_count": 455,
      "outputs": [
        {
          "output_type": "stream",
          "text": [
            "+--------------------+-----------------+----------+---------------+-----------------+-----------+\n",
            "|         main_author|      mean_rating|max_rating|number_of_books|mean_rating_count|total_pages|\n",
            "+--------------------+-----------------+----------+---------------+-----------------+-----------+\n",
            "|        Dennis Adler|              5.0|       5.0|              1|              2.0|        372|\n",
            "|   James E. Campbell|              5.0|       5.0|              1|              0.0|        314|\n",
            "|       Keith Donohue|              5.0|       5.0|              1|              1.0|        222|\n",
            "|  William C. Dowling|              5.0|       5.0|              1|              1.0|        179|\n",
            "|        Ross Garnaut|              5.0|       5.0|              1|              1.0|        350|\n",
            "| Sheri Rose Shepherd|              5.0|       5.0|              1|              2.0|        240|\n",
            "|Middlesex Borough...|              5.0|       5.0|              1|              2.0|        128|\n",
            "|      Chris    Green|              5.0|       5.0|              1|              1.0|        336|\n",
            "|          Todd Davis|              5.0|       5.0|              1|              2.0|         56|\n",
            "|      R. McL. Wilson|              5.0|       5.0|              1|              1.0|        512|\n",
            "|       John  Diamond|              5.0|       5.0|              1|              5.0|         74|\n",
            "|      Laura Driscoll|              5.0|       5.0|              1|              2.0|         24|\n",
            "|    Sara Barton-Wood|              5.0|       5.0|              1|              0.0|         48|\n",
            "|     Elena N. Mahlow|              5.0|       5.0|              1|              4.0|        202|\n",
            "|   Nicholas    Evans|              5.0|       5.0|              1|              1.0|        150|\n",
            "|     Julie Sylvester|              5.0|       5.0|              1|              1.0|         83|\n",
            "|   Ian        Martin|              5.0|       5.0|              1|              1.0|         96|\n",
            "|     Simon Cleveland|4.909999847412109|      4.91|              1|             11.0|        100|\n",
            "|          Alice Wong|4.880000114440918|      4.88|              1|              8.0|        352|\n",
            "|        Jerry Burton|4.829999923706055|      4.83|              1|              6.0|        320|\n",
            "+--------------------+-----------------+----------+---------------+-----------------+-----------+\n",
            "only showing top 20 rows\n",
            "\n"
          ],
          "name": "stdout"
        }
      ]
    },
    {
      "cell_type": "code",
      "metadata": {
        "colab": {
          "base_uri": "https://localhost:8080/"
        },
        "id": "T5nBFDNS3GA6",
        "outputId": "ca608d89-25e8-4924-d9b2-1616e9563682"
      },
      "source": [
        "### Normalize columns \"total_pages\" and \"mean_rating_count\" to create a score based on rating and corrected by these 2 features\n",
        "\n",
        "# UDF for converting column type from vector to double type\n",
        "unlist = udf(lambda x: round(float(list(x)[0]),3), DoubleType())\n",
        "\n",
        "# Iterating over columns to be scaled\n",
        "for i in [\"total_pages\",\"mean_rating_count\"]:\n",
        "    # VectorAssembler Transformation - Converting column to vector type\n",
        "    assembler = VectorAssembler(inputCols=[i],outputCol=i+\"_Vect\")\n",
        "\n",
        "    # MinMaxScaler Transformation\n",
        "    scaler = MinMaxScaler(inputCol=i+\"_Vect\", outputCol=i+\"_Scaled\")\n",
        "\n",
        "    # Pipeline of VectorAssembler and MinMaxScaler\n",
        "    pipeline = Pipeline(stages=[assembler, scaler])\n",
        "\n",
        "    # Fitting pipeline on dataframe\n",
        "    df_best_authors = pipeline.fit(df_best_authors).transform(df_best_authors).withColumn(i+\"_Scaled\", unlist(i+\"_Scaled\")).drop(i+\"_Vect\")\n",
        "\n",
        "# Most popular authors\n",
        "df_best_authors = df_best_authors.withColumn('score', col('total_pages_Scaled')*col('mean_rating_count_Scaled')*col('mean_rating')).sort(desc('score'))\n",
        "df_best_authors.show(10)"
      ],
      "execution_count": 456,
      "outputs": [
        {
          "output_type": "stream",
          "text": [
            "+-------------------+------------------+----------+---------------+------------------+-----------+------------------+------------------------+--------------------+\n",
            "|        main_author|       mean_rating|max_rating|number_of_books| mean_rating_count|total_pages|total_pages_Scaled|mean_rating_count_Scaled|               score|\n",
            "+-------------------+------------------+----------+---------------+------------------+-----------+------------------+------------------------+--------------------+\n",
            "|       J.K. Rowling|4.5212499896685285|      4.78|             24| 375245.3333333333|      16473|             0.478|                   0.082| 0.17721491459504765|\n",
            "|     J.R.R. Tolkien| 4.223137303894641|      4.59|             51|109839.05882352941|      25518|             0.741|                   0.024|  0.0751042738124623|\n",
            "|    Stephenie Meyer|3.5899999141693115|      3.59|              1|         4597666.0|        501|             0.015|                     1.0| 0.05384999871253967|\n",
            "|          Dan Brown| 3.820588238099042|      3.89|             17|243545.11764705883|       8595|             0.249|                   0.053| 0.05042030297819306|\n",
            "|       Stephen King| 4.003536584900647|      4.54|             82|47803.829268292684|      34457|               1.0|                    0.01|0.040035365849006466|\n",
            "|     Diana Gabaldon| 4.203636386177757|      4.44|             11|139595.63636363635|       8812|             0.256|                    0.03| 0.03228392744584517|\n",
            "|William Shakespeare|3.9306818517771633|       4.5|             88| 46014.64772727273|      27133|             0.787|                    0.01|0.030934466173486278|\n",
            "|  Margaret Mitchell| 4.289999961853027|      4.29|              1|          999139.0|       1037|              0.03|                   0.217|0.027927899751663206|\n",
            "|   Charlotte Brontë| 4.163333257039388|      4.38|              6|          236731.5|       4380|             0.127|                   0.051|0.026965909505844113|\n",
            "|    Nicholas Sparks|3.9983334011501737|      4.17|             18|171388.55555555556|       5582|             0.162|                   0.037|0.023966010406494143|\n",
            "+-------------------+------------------+----------+---------------+------------------+-----------+------------------+------------------------+--------------------+\n",
            "only showing top 10 rows\n",
            "\n"
          ],
          "name": "stdout"
        }
      ]
    }
  ]
}